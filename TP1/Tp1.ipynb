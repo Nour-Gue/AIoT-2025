{
 "cells": [
  {
   "cell_type": "code",
   "execution_count": 2,
   "id": "be3f6a5d",
   "metadata": {},
   "outputs": [],
   "source": [
    "import pandas as pd\n",
    "import numpy as np\n",
    "from sklearn.model_selection import train_test_split\n",
    "from sklearn.preprocessing import StandardScaler\n",
    "from sklearn.linear_model import LogisticRegression\n",
    "from sklearn.metrics import accuracy_score, confusion_matrix, classification_report"
   ]
  },
  {
   "cell_type": "code",
   "execution_count": 8,
   "id": "230e6d7c",
   "metadata": {},
   "outputs": [
    {
     "data": {
      "text/html": [
       "<div>\n",
       "<style scoped>\n",
       "    .dataframe tbody tr th:only-of-type {\n",
       "        vertical-align: middle;\n",
       "    }\n",
       "\n",
       "    .dataframe tbody tr th {\n",
       "        vertical-align: top;\n",
       "    }\n",
       "\n",
       "    .dataframe thead th {\n",
       "        text-align: right;\n",
       "    }\n",
       "</style>\n",
       "<table border=\"1\" class=\"dataframe\">\n",
       "  <thead>\n",
       "    <tr style=\"text-align: right;\">\n",
       "      <th></th>\n",
       "      <th>Unnamed: 0</th>\n",
       "      <th>UTC</th>\n",
       "      <th>Temperature[C]</th>\n",
       "      <th>Humidity[%]</th>\n",
       "      <th>TVOC[ppb]</th>\n",
       "      <th>eCO2[ppm]</th>\n",
       "      <th>Raw H2</th>\n",
       "      <th>Raw Ethanol</th>\n",
       "      <th>Pressure[hPa]</th>\n",
       "      <th>PM1.0</th>\n",
       "      <th>PM2.5</th>\n",
       "      <th>NC0.5</th>\n",
       "      <th>NC1.0</th>\n",
       "      <th>NC2.5</th>\n",
       "      <th>CNT</th>\n",
       "      <th>Fire Alarm</th>\n",
       "    </tr>\n",
       "  </thead>\n",
       "  <tbody>\n",
       "    <tr>\n",
       "      <th>0</th>\n",
       "      <td>0</td>\n",
       "      <td>1654733331</td>\n",
       "      <td>20.000</td>\n",
       "      <td>57.36</td>\n",
       "      <td>0</td>\n",
       "      <td>400</td>\n",
       "      <td>12306</td>\n",
       "      <td>18520</td>\n",
       "      <td>939.735</td>\n",
       "      <td>0.0</td>\n",
       "      <td>0.0</td>\n",
       "      <td>0.0</td>\n",
       "      <td>0.0</td>\n",
       "      <td>0.0</td>\n",
       "      <td>0</td>\n",
       "      <td>0</td>\n",
       "    </tr>\n",
       "    <tr>\n",
       "      <th>1</th>\n",
       "      <td>1</td>\n",
       "      <td>1654733332</td>\n",
       "      <td>20.015</td>\n",
       "      <td>56.67</td>\n",
       "      <td>0</td>\n",
       "      <td>400</td>\n",
       "      <td>12345</td>\n",
       "      <td>18651</td>\n",
       "      <td>939.744</td>\n",
       "      <td>0.0</td>\n",
       "      <td>0.0</td>\n",
       "      <td>0.0</td>\n",
       "      <td>0.0</td>\n",
       "      <td>0.0</td>\n",
       "      <td>1</td>\n",
       "      <td>0</td>\n",
       "    </tr>\n",
       "    <tr>\n",
       "      <th>2</th>\n",
       "      <td>2</td>\n",
       "      <td>1654733333</td>\n",
       "      <td>20.029</td>\n",
       "      <td>55.96</td>\n",
       "      <td>0</td>\n",
       "      <td>400</td>\n",
       "      <td>12374</td>\n",
       "      <td>18764</td>\n",
       "      <td>939.738</td>\n",
       "      <td>0.0</td>\n",
       "      <td>0.0</td>\n",
       "      <td>0.0</td>\n",
       "      <td>0.0</td>\n",
       "      <td>0.0</td>\n",
       "      <td>2</td>\n",
       "      <td>0</td>\n",
       "    </tr>\n",
       "    <tr>\n",
       "      <th>3</th>\n",
       "      <td>3</td>\n",
       "      <td>1654733334</td>\n",
       "      <td>20.044</td>\n",
       "      <td>55.28</td>\n",
       "      <td>0</td>\n",
       "      <td>400</td>\n",
       "      <td>12390</td>\n",
       "      <td>18849</td>\n",
       "      <td>939.736</td>\n",
       "      <td>0.0</td>\n",
       "      <td>0.0</td>\n",
       "      <td>0.0</td>\n",
       "      <td>0.0</td>\n",
       "      <td>0.0</td>\n",
       "      <td>3</td>\n",
       "      <td>0</td>\n",
       "    </tr>\n",
       "    <tr>\n",
       "      <th>4</th>\n",
       "      <td>4</td>\n",
       "      <td>1654733335</td>\n",
       "      <td>20.059</td>\n",
       "      <td>54.69</td>\n",
       "      <td>0</td>\n",
       "      <td>400</td>\n",
       "      <td>12403</td>\n",
       "      <td>18921</td>\n",
       "      <td>939.744</td>\n",
       "      <td>0.0</td>\n",
       "      <td>0.0</td>\n",
       "      <td>0.0</td>\n",
       "      <td>0.0</td>\n",
       "      <td>0.0</td>\n",
       "      <td>4</td>\n",
       "      <td>0</td>\n",
       "    </tr>\n",
       "  </tbody>\n",
       "</table>\n",
       "</div>"
      ],
      "text/plain": [
       "   Unnamed: 0         UTC  Temperature[C]  Humidity[%]  TVOC[ppb]  eCO2[ppm]  \\\n",
       "0           0  1654733331          20.000        57.36          0        400   \n",
       "1           1  1654733332          20.015        56.67          0        400   \n",
       "2           2  1654733333          20.029        55.96          0        400   \n",
       "3           3  1654733334          20.044        55.28          0        400   \n",
       "4           4  1654733335          20.059        54.69          0        400   \n",
       "\n",
       "   Raw H2  Raw Ethanol  Pressure[hPa]  PM1.0  PM2.5  NC0.5  NC1.0  NC2.5  CNT  \\\n",
       "0   12306        18520        939.735    0.0    0.0    0.0    0.0    0.0    0   \n",
       "1   12345        18651        939.744    0.0    0.0    0.0    0.0    0.0    1   \n",
       "2   12374        18764        939.738    0.0    0.0    0.0    0.0    0.0    2   \n",
       "3   12390        18849        939.736    0.0    0.0    0.0    0.0    0.0    3   \n",
       "4   12403        18921        939.744    0.0    0.0    0.0    0.0    0.0    4   \n",
       "\n",
       "   Fire Alarm  \n",
       "0           0  \n",
       "1           0  \n",
       "2           0  \n",
       "3           0  \n",
       "4           0  "
      ]
     },
     "execution_count": 8,
     "metadata": {},
     "output_type": "execute_result"
    }
   ],
   "source": [
    "df = pd.read_csv(r\"C:\\Users\\LAPTA\\AIoT-2025\\TP1\\smoke_detection_iot.csv\")\n",
    "df.head()"
   ]
  },
  {
   "cell_type": "code",
   "execution_count": 9,
   "id": "f1091f8f",
   "metadata": {},
   "outputs": [
    {
     "name": "stdout",
     "output_type": "stream",
     "text": [
      "<class 'pandas.core.frame.DataFrame'>\n",
      "RangeIndex: 62630 entries, 0 to 62629\n",
      "Data columns (total 16 columns):\n",
      " #   Column          Non-Null Count  Dtype  \n",
      "---  ------          --------------  -----  \n",
      " 0   Unnamed: 0      62630 non-null  int64  \n",
      " 1   UTC             62630 non-null  int64  \n",
      " 2   Temperature[C]  62630 non-null  float64\n",
      " 3   Humidity[%]     62630 non-null  float64\n",
      " 4   TVOC[ppb]       62630 non-null  int64  \n",
      " 5   eCO2[ppm]       62630 non-null  int64  \n",
      " 6   Raw H2          62630 non-null  int64  \n",
      " 7   Raw Ethanol     62630 non-null  int64  \n",
      " 8   Pressure[hPa]   62630 non-null  float64\n",
      " 9   PM1.0           62630 non-null  float64\n",
      " 10  PM2.5           62630 non-null  float64\n",
      " 11  NC0.5           62630 non-null  float64\n",
      " 12  NC1.0           62630 non-null  float64\n",
      " 13  NC2.5           62630 non-null  float64\n",
      " 14  CNT             62630 non-null  int64  \n",
      " 15  Fire Alarm      62630 non-null  int64  \n",
      "dtypes: float64(8), int64(8)\n",
      "memory usage: 7.6 MB\n",
      "None\n",
      "Unnamed: 0        0\n",
      "UTC               0\n",
      "Temperature[C]    0\n",
      "Humidity[%]       0\n",
      "TVOC[ppb]         0\n",
      "eCO2[ppm]         0\n",
      "Raw H2            0\n",
      "Raw Ethanol       0\n",
      "Pressure[hPa]     0\n",
      "PM1.0             0\n",
      "PM2.5             0\n",
      "NC0.5             0\n",
      "NC1.0             0\n",
      "NC2.5             0\n",
      "CNT               0\n",
      "Fire Alarm        0\n",
      "dtype: int64\n"
     ]
    }
   ],
   "source": [
    "print(df.info())\n",
    "\n",
    "print(df.isnull().sum())"
   ]
  },
  {
   "cell_type": "code",
   "execution_count": 10,
   "id": "2e5755eb",
   "metadata": {},
   "outputs": [],
   "source": [
    "features = [\n",
    "    \"Temperature[C]\", \"Humidity[%]\", \"TVOC[ppb]\", \"eCO2[ppm]\",\n",
    "    \"Raw H2\", \"Raw Ethanol\", \"Pressure[hPa]\",\n",
    "    \"PM1.0\", \"PM2.5\", \"NC0.5\", \"NC1.0\", \"NC2.5\", \"CNT\"\n",
    "]\n",
    "target = \"Fire Alarm\"\n",
    "\n",
    "X = df[features]\n",
    "y = df[target]\n"
   ]
  },
  {
   "cell_type": "code",
   "execution_count": 11,
   "id": "bda7f994",
   "metadata": {},
   "outputs": [],
   "source": [
    "X_train, X_test, y_train, y_test = train_test_split(\n",
    "    X, y, test_size=0.2, random_state=42, stratify=y\n",
    ")"
   ]
  },
  {
   "cell_type": "code",
   "execution_count": 12,
   "id": "fb6e7c15",
   "metadata": {},
   "outputs": [
    {
     "name": "stdout",
     "output_type": "stream",
     "text": [
      "Mean (μ): [1.59531151e+01 4.85743019e+01 1.92288434e+03 6.67743913e+02\n",
      " 1.29423010e+04 1.97542505e+04 9.38631948e+02 1.00887285e+02\n",
      " 1.86073921e+02 4.90209271e+02 2.05457793e+02 8.13197535e+01\n",
      " 1.05209288e+04]\n",
      "Std (σ): [1.43580385e+01 8.82118774e+00 7.75589505e+03 1.90378221e+03\n",
      " 2.71168609e+02 6.06975952e+02 1.32451443e+00 9.25303530e+02\n",
      " 1.99152789e+03 4.25941567e+03 2.23248476e+03 1.09529003e+03\n",
      " 7.60459566e+03]\n"
     ]
    }
   ],
   "source": [
    "scaler = StandardScaler()\n",
    "X_train_scaled = scaler.fit_transform(X_train)\n",
    "X_test_scaled = scaler.transform(X_test)\n",
    "\n",
    "mean_values = scaler.mean_\n",
    "std_values = scaler.scale_\n",
    "\n",
    "print(\"Mean (μ):\", mean_values)\n",
    "print(\"Std (σ):\", std_values)\n"
   ]
  },
  {
   "cell_type": "code",
   "execution_count": 13,
   "id": "e76d6395",
   "metadata": {},
   "outputs": [
    {
     "name": "stdout",
     "output_type": "stream",
     "text": [
      "Accuracy: 0.983793709085103\n",
      "              precision    recall  f1-score   support\n",
      "\n",
      "           0       0.95      0.99      0.97      3575\n",
      "           1       1.00      0.98      0.99      8951\n",
      "\n",
      "    accuracy                           0.98     12526\n",
      "   macro avg       0.98      0.99      0.98     12526\n",
      "weighted avg       0.98      0.98      0.98     12526\n",
      "\n"
     ]
    }
   ],
   "source": [
    "clf = LogisticRegression(max_iter=1000, class_weight='balanced')  \n",
    "clf.fit(X_train_scaled, y_train)\n",
    "\n",
    "y_pred = clf.predict(X_test_scaled)\n",
    "\n",
    "\n",
    "print(\"Accuracy:\", accuracy_score(y_test, y_pred))\n",
    "print(classification_report(y_test, y_pred))\n"
   ]
  },
  {
   "cell_type": "code",
   "execution_count": 14,
   "id": "adfa583e",
   "metadata": {},
   "outputs": [
    {
     "name": "stdout",
     "output_type": "stream",
     "text": [
      "Weights (W): [ -0.46196775   1.02379758 -29.88140562   3.4092624    0.3868544\n",
      "  -4.51676325  -1.96708206   1.242099     0.4984672    1.97559229\n",
      "   0.44472092  -0.15287263  16.61662482]\n",
      "Bias (b): 12.010646163992215\n"
     ]
    }
   ],
   "source": [
    "weights = clf.coef_[0]  # مصفوفة الأوزان W\n",
    "bias = clf.intercept_[0]  # الانترسبت b\n",
    "\n",
    "print(\"Weights (W):\", weights)\n",
    "print(\"Bias (b):\", bias)"
   ]
  },
  {
   "cell_type": "code",
   "execution_count": 15,
   "id": "c10e51b0",
   "metadata": {},
   "outputs": [
    {
     "name": "stdout",
     "output_type": "stream",
     "text": [
      "const float MEAN[N_FEATURES] = { 15.953115080632283, 48.57430185214753, 1922.8843405716111, 667.7439126616638, 12942.300973974134, 19754.250459045186, 938.6319484871467, 100.88728524668689, 186.0739208446432, 490.20927071690875, 205.45779255149284, 81.31975353265209, 10520.92878812071 };\n",
      "const float STD[N_FEATURES]  = { 14.358038477662703, 8.82118774162391, 7755.895054463778, 1903.7822129584472, 271.16860881062263, 606.9759523422715, 1.3245144335765542, 925.3035296966241, 1991.52788902251, 4259.415669501792, 2232.484760401612, 1095.2900289597956, 7604.5956649702775 };\n",
      "const float WEIGHTS[N_FEATURES] = { -0.46196774642136845, 1.0237975815826177, -29.88140561609288, 3.4092623995956473, 0.38685440295360274, -4.516763249773937, -1.967082064475801, 1.2420990016465594, 0.498467200020788, 1.97559228730834, 0.4447209207791269, -0.15287262705417967, 16.616624817319465 };\n",
      "const float BIAS =  12.010646163992215 ;\n"
     ]
    }
   ],
   "source": [
    "print(\"const float MEAN[N_FEATURES] = {\", ', '.join(map(str, mean_values)), \"};\")\n",
    "print(\"const float STD[N_FEATURES]  = {\", ', '.join(map(str, std_values)), \"};\")\n",
    "print(\"const float WEIGHTS[N_FEATURES] = {\", ', '.join(map(str, weights)), \"};\")\n",
    "print(\"const float BIAS = \", bias, \";\")"
   ]
  }
 ],
 "metadata": {
  "kernelspec": {
   "display_name": "conda",
   "language": "python",
   "name": "python3"
  },
  "language_info": {
   "codemirror_mode": {
    "name": "ipython",
    "version": 3
   },
   "file_extension": ".py",
   "mimetype": "text/x-python",
   "name": "python",
   "nbconvert_exporter": "python",
   "pygments_lexer": "ipython3",
   "version": "3.8.20"
  }
 },
 "nbformat": 4,
 "nbformat_minor": 5
}
